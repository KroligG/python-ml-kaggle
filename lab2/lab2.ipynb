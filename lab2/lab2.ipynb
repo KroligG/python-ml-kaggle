{
 "cells": [
  {
   "cell_type": "markdown",
   "metadata": {},
   "source": [
    "# Titanic: Machine Learning from Disaster\n",
    "\n",
    "* Загрузим необходимые данные\n",
    "* Выбрасывать данные с отсутствующими значениями это не для нас\n",
    "  * Возьмем среднюю цену за билет для каждого класс\n",
    "  * Возьмем моду для порта\n",
    "  * С помощью регрессии найдем значения возрастов\n",
    "  * Отбросим колонку с номером билета\n",
    "* Введем дополнительную колонку с титулом человека\n",
    "* Введем колонку размер семьи, как сумму братьев и детей/родителей\n",
    "* Отнормируем числовые колонки\n",
    "\n",
    "После всевозможных экспериментов лучше всего себя повел SVM с формулой\n",
    "\n",
    "Survived ~ C(Pclass) + C(Sex) + FamilySize_scaled  + C(Embarked) + Fare_scaled + Age_scaled + C(Title)\n",
    "\n",
    "дав на тестовой выборке результат 0.78947.\n",
    "\n",
    "Вне конкурса, так как по заданию нельзя :), идет Random Forest с результатом в 0.79426"
   ]
  },
  {
   "cell_type": "code",
   "execution_count": 6,
   "metadata": {
    "collapsed": true
   },
   "outputs": [],
   "source": [
    "import matplotlib.pyplot as plt\n",
    "%matplotlib inline\n",
    "import numpy as np\n",
    "import pandas as pd\n",
    "from patsy import dmatrices\n",
    "import re\n",
    "from sklearn.ensemble import RandomForestRegressor\n",
    "from sklearn.grid_search import GridSearchCV\n",
    "from sklearn.tree import DecisionTreeClassifier\n",
    "from sklearn import svm\n",
    "from sklearn.decomposition import PCA\n",
    "import sklearn.preprocessing as preprocessing"
   ]
  },
  {
   "cell_type": "code",
   "execution_count": 2,
   "metadata": {
    "collapsed": false,
    "scrolled": true
   },
   "outputs": [
    {
     "data": {
      "text/html": [
       "<div style=\"max-height:1000px;max-width:1500px;overflow:auto;\">\n",
       "<table border=\"1\" class=\"dataframe\">\n",
       "  <thead>\n",
       "    <tr style=\"text-align: right;\">\n",
       "      <th></th>\n",
       "      <th>PassengerId</th>\n",
       "      <th>Survived</th>\n",
       "      <th>Pclass</th>\n",
       "      <th>Name</th>\n",
       "      <th>Sex</th>\n",
       "      <th>Age</th>\n",
       "      <th>SibSp</th>\n",
       "      <th>Parch</th>\n",
       "      <th>Ticket</th>\n",
       "      <th>Fare</th>\n",
       "      <th>Cabin</th>\n",
       "      <th>Embarked</th>\n",
       "    </tr>\n",
       "  </thead>\n",
       "  <tbody>\n",
       "    <tr>\n",
       "      <th>0</th>\n",
       "      <td> 1</td>\n",
       "      <td> 0</td>\n",
       "      <td> 3</td>\n",
       "      <td>                           Braund, Mr. Owen Harris</td>\n",
       "      <td>   male</td>\n",
       "      <td> 22</td>\n",
       "      <td> 1</td>\n",
       "      <td> 0</td>\n",
       "      <td>        A/5 21171</td>\n",
       "      <td>  7.2500</td>\n",
       "      <td>  NaN</td>\n",
       "      <td> S</td>\n",
       "    </tr>\n",
       "    <tr>\n",
       "      <th>1</th>\n",
       "      <td> 2</td>\n",
       "      <td> 1</td>\n",
       "      <td> 1</td>\n",
       "      <td> Cumings, Mrs. John Bradley (Florence Briggs Th...</td>\n",
       "      <td> female</td>\n",
       "      <td> 38</td>\n",
       "      <td> 1</td>\n",
       "      <td> 0</td>\n",
       "      <td>         PC 17599</td>\n",
       "      <td> 71.2833</td>\n",
       "      <td>  C85</td>\n",
       "      <td> C</td>\n",
       "    </tr>\n",
       "    <tr>\n",
       "      <th>2</th>\n",
       "      <td> 3</td>\n",
       "      <td> 1</td>\n",
       "      <td> 3</td>\n",
       "      <td>                            Heikkinen, Miss. Laina</td>\n",
       "      <td> female</td>\n",
       "      <td> 26</td>\n",
       "      <td> 0</td>\n",
       "      <td> 0</td>\n",
       "      <td> STON/O2. 3101282</td>\n",
       "      <td>  7.9250</td>\n",
       "      <td>  NaN</td>\n",
       "      <td> S</td>\n",
       "    </tr>\n",
       "    <tr>\n",
       "      <th>3</th>\n",
       "      <td> 4</td>\n",
       "      <td> 1</td>\n",
       "      <td> 1</td>\n",
       "      <td>      Futrelle, Mrs. Jacques Heath (Lily May Peel)</td>\n",
       "      <td> female</td>\n",
       "      <td> 35</td>\n",
       "      <td> 1</td>\n",
       "      <td> 0</td>\n",
       "      <td>           113803</td>\n",
       "      <td> 53.1000</td>\n",
       "      <td> C123</td>\n",
       "      <td> S</td>\n",
       "    </tr>\n",
       "    <tr>\n",
       "      <th>4</th>\n",
       "      <td> 5</td>\n",
       "      <td> 0</td>\n",
       "      <td> 3</td>\n",
       "      <td>                          Allen, Mr. William Henry</td>\n",
       "      <td>   male</td>\n",
       "      <td> 35</td>\n",
       "      <td> 0</td>\n",
       "      <td> 0</td>\n",
       "      <td>           373450</td>\n",
       "      <td>  8.0500</td>\n",
       "      <td>  NaN</td>\n",
       "      <td> S</td>\n",
       "    </tr>\n",
       "  </tbody>\n",
       "</table>\n",
       "</div>"
      ],
      "text/plain": [
       "   PassengerId  Survived  Pclass  \\\n",
       "0            1         0       3   \n",
       "1            2         1       1   \n",
       "2            3         1       3   \n",
       "3            4         1       1   \n",
       "4            5         0       3   \n",
       "\n",
       "                                                Name     Sex  Age  SibSp  \\\n",
       "0                            Braund, Mr. Owen Harris    male   22      1   \n",
       "1  Cumings, Mrs. John Bradley (Florence Briggs Th...  female   38      1   \n",
       "2                             Heikkinen, Miss. Laina  female   26      0   \n",
       "3       Futrelle, Mrs. Jacques Heath (Lily May Peel)  female   35      1   \n",
       "4                           Allen, Mr. William Henry    male   35      0   \n",
       "\n",
       "   Parch            Ticket     Fare Cabin Embarked  \n",
       "0      0         A/5 21171   7.2500   NaN        S  \n",
       "1      0          PC 17599  71.2833   C85        C  \n",
       "2      0  STON/O2. 3101282   7.9250   NaN        S  \n",
       "3      0            113803  53.1000  C123        S  \n",
       "4      0            373450   8.0500   NaN        S  "
      ]
     },
     "execution_count": 2,
     "metadata": {},
     "output_type": "execute_result"
    }
   ],
   "source": [
    "df = pd.read_csv(\"../data/train.csv\")\n",
    "df_test = pd.read_csv(\"../data/test.csv\")\n",
    "df.head()"
   ]
  },
  {
   "cell_type": "code",
   "execution_count": 16,
   "metadata": {
    "collapsed": false
   },
   "outputs": [],
   "source": [
    "def setMissingAges(age_df):\n",
    "    formula = 'Age ~ C(Pclass) + C(Sex) + SibSp  + C(Embarked) + Fare + Parch + C(CabinLetter) + C(Title)' \n",
    "    age_df.loc[(age_df.Age.isnull()), 'Age'] = 0\n",
    "    y,X = dmatrices(formula, data=age_df, return_type='dataframe')\n",
    "    \n",
    "    rtr = RandomForestRegressor(n_estimators=2000, n_jobs=-1)    \n",
    "    rtr.fit(X[y.Age != 0], np.asarray(y[y.Age != 0]).ravel())\n",
    "    \n",
    "    predictedAges = rtr.predict(X[y.Age == 0])\n",
    "    age_df.loc[ (age_df.Age == 0), 'Age' ] = predictedAges\n",
    "    return age_df\n",
    "\n",
    "def prepare_data(dataFrame, scale=False):\n",
    "    dataFrame = dataFrame.drop(\"Ticket\", axis=1)\n",
    "    fare_means = dataFrame.pivot_table('Fare', index='Pclass', aggfunc='mean')\n",
    "    dataFrame['Fare'] = dataFrame[['Fare', 'Pclass']].apply(\n",
    "                lambda x: fare_means[x['Pclass']] if pd.isnull(x['Fare']) else x['Fare'], axis=1)\n",
    "    \n",
    "    dataFrame.loc[(dataFrame.Embarked.isnull()), 'Embarked'] = dataFrame.Embarked.dropna().mode().values\n",
    "    \n",
    "    dataFrame.loc[(dataFrame.Cabin.isnull()), 'Cabin'] = 'U0'\n",
    "    dataFrame['CabinLetter'] = dataFrame['Cabin'].map( lambda x : re.compile(\"([a-zA-Z]+)\").search(x).group())\n",
    "    dataFrame['CabinLetter'] = pd.factorize(dataFrame['CabinLetter'])[0]\n",
    "\n",
    "    dataFrame['Title'] = dataFrame['Name'].map(lambda x: re.compile(\", (.*?)\\.\").findall(x)[0])\n",
    "    dataFrame.loc[(dataFrame.Title == 'Jonkheer'), 'Title'] = 'Master'\n",
    "    dataFrame.loc[(dataFrame.Title.isin(['Ms','Mlle'])), 'Title'] = 'Miss'\n",
    "    dataFrame.loc[(dataFrame.Title == 'Mme'), 'Title'] = 'Mrs'\n",
    "    dataFrame.loc[(dataFrame.Title.isin(['Capt', 'Don', 'Major', 'Col', 'Sir'])), 'Title'] = 'Sir'\n",
    "    dataFrame.loc[(dataFrame.Title.isin(['Dona', 'Lady', 'the Countess'])), 'Title'] = 'Lady'\n",
    "    \n",
    "    dataFrame['FamilySize'] = dataFrame.Parch + dataFrame.SibSp\n",
    "    dataFrame = setMissingAges(dataFrame)\n",
    "    \n",
    "    if scale:\n",
    "        scaler = preprocessing.StandardScaler()\n",
    "        dataFrame['Age_scaled'] = scaler.fit_transform(dataFrame['Age'].astype(float))\n",
    "        dataFrame['Fare_scaled'] = scaler.fit_transform(dataFrame['Fare'].astype(float))\n",
    "        dataFrame['FamilySize_scaled'] = scaler.fit_transform(dataFrame['FamilySize'].astype(float))\n",
    "    \n",
    "    return dataFrame"
   ]
  },
  {
   "cell_type": "code",
   "execution_count": 260,
   "metadata": {
    "collapsed": false
   },
   "outputs": [
    {
     "data": {
      "text/plain": [
       "[mean: 0.82716, std: 0.02364, params: {'max_features': 0.7, 'max_depth': 3, 'min_samples_leaf': 7},\n",
       " mean: 0.82379, std: 0.03196, params: {'max_features': 0.5, 'max_depth': 5, 'min_samples_leaf': 5},\n",
       " mean: 0.82379, std: 0.03973, params: {'max_features': 0.5, 'max_depth': 5, 'min_samples_leaf': 7},\n",
       " mean: 0.82379, std: 0.03531, params: {'max_features': 0.7, 'max_depth': 5, 'min_samples_leaf': 10},\n",
       " mean: 0.82267, std: 0.02460, params: {'max_features': 0.5, 'max_depth': 3, 'min_samples_leaf': 15},\n",
       " mean: 0.82267, std: 0.02338, params: {'max_features': 0.7, 'max_depth': 3, 'min_samples_leaf': 5},\n",
       " mean: 0.82267, std: 0.02169, params: {'max_features': 1.0, 'max_depth': 3, 'min_samples_leaf': 5},\n",
       " mean: 0.82155, std: 0.03214, params: {'max_features': 0.7, 'max_depth': 3, 'min_samples_leaf': 10},\n",
       " mean: 0.82155, std: 0.03199, params: {'max_features': 0.5, 'max_depth': 10, 'min_samples_leaf': 15},\n",
       " mean: 0.82043, std: 0.03415, params: {'max_features': 0.7, 'max_depth': 5, 'min_samples_leaf': 5}]"
      ]
     },
     "execution_count": 260,
     "metadata": {},
     "output_type": "execute_result"
    }
   ],
   "source": [
    "df_test['Survived'] = -1\n",
    "full_df = pd.concat([df, df_test])\n",
    "prepared_df = setMissingAges(prepare_data(full_df))\n",
    "\n",
    "formula = 'Survived ~ C(Pclass) + C(Sex) + FamilySize  + C(Embarked) + Fare + Age + C(Title)'\n",
    "y,X = dmatrices(formula, data=prepared_df, return_type='dataframe')\n",
    "\n",
    "parameter_grid = {\n",
    "#     \"criterion\": [\"gini\", \"entropy\"],\n",
    "    \"max_depth\": [None,3,5,10],\n",
    "    'max_features': [0.5, 0.7, 1.],\n",
    "    'min_samples_leaf': [5,7,10,15,20]\n",
    "}\n",
    "                                            \n",
    "classifier = DecisionTreeClassifier()                                               \n",
    "grid_search = GridSearchCV(classifier, parameter_grid, n_jobs=-1, cv=10)\n",
    "grid_search.fit(X[y.Survived != -1], np.asarray(y[y.Survived != -1]).ravel())\n",
    "best_params = sorted(grid_search.grid_scores_, key=lambda x: x[1], reverse=True)[:10]\n",
    "best_params"
   ]
  },
  {
   "cell_type": "code",
   "execution_count": 20,
   "metadata": {
    "collapsed": false
   },
   "outputs": [
    {
     "data": {
      "text/plain": [
       "[mean: 0.83614, std: 0.03195, params: {'kernel': 'rbf', 'gamma': 0.0},\n",
       " mean: 0.82828, std: 0.03070, params: {'kernel': 'poly', 'gamma': 0.0},\n",
       " mean: 0.82716, std: 0.02975, params: {'kernel': 'linear', 'gamma': 0.0},\n",
       " mean: 0.82716, std: 0.02975, params: {'kernel': 'linear', 'gamma': 3.0},\n",
       " mean: 0.80022, std: 0.04349, params: {'kernel': 'rbf', 'gamma': 3.0},\n",
       " mean: 0.79798, std: 0.02805, params: {'kernel': 'poly', 'gamma': 3.0}]"
      ]
     },
     "execution_count": 20,
     "metadata": {},
     "output_type": "execute_result"
    }
   ],
   "source": [
    "df_test['Survived'] = -1\n",
    "full_df = pd.concat([df, df_test])\n",
    "prepared_df = prepare_data(full_df, scale=True)\n",
    "\n",
    "formula = 'Survived ~ C(Pclass) + C(Sex) + FamilySize_scaled  + C(Embarked) + Fare_scaled + Age_scaled + C(Title)'\n",
    "y,X = dmatrices(formula, data=prepared_df, return_type='dataframe')\n",
    "\n",
    "parameter_grid = {\n",
    "    \"kernel\": [\"linear\", \"poly\", \"rbf\"],\n",
    "    \"gamma\": [0.0, 3.0]\n",
    "}\n",
    "                                            \n",
    "classifier = svm.SVC()\n",
    "grid_search = GridSearchCV(classifier, parameter_grid, n_jobs=-1, cv=10)\n",
    "grid_search.fit(X[y.Survived != -1], np.asarray(y[y.Survived != -1]).ravel())\n",
    "best_params = sorted(grid_search.grid_scores_, key=lambda x: x[1], reverse=True)[:10]\n",
    "best_params"
   ]
  },
  {
   "cell_type": "code",
   "execution_count": 24,
   "metadata": {
    "collapsed": false,
    "scrolled": true
   },
   "outputs": [
    {
     "data": {
      "text/html": [
       "<div style=\"max-height:1000px;max-width:1500px;overflow:auto;\">\n",
       "<table border=\"1\" class=\"dataframe\">\n",
       "  <thead>\n",
       "    <tr style=\"text-align: right;\">\n",
       "      <th></th>\n",
       "      <th>PassengerId</th>\n",
       "      <th>Survived</th>\n",
       "    </tr>\n",
       "  </thead>\n",
       "  <tbody>\n",
       "    <tr>\n",
       "      <th>0</th>\n",
       "      <td> 892</td>\n",
       "      <td> 0</td>\n",
       "    </tr>\n",
       "    <tr>\n",
       "      <th>1</th>\n",
       "      <td> 893</td>\n",
       "      <td> 1</td>\n",
       "    </tr>\n",
       "    <tr>\n",
       "      <th>2</th>\n",
       "      <td> 894</td>\n",
       "      <td> 0</td>\n",
       "    </tr>\n",
       "    <tr>\n",
       "      <th>3</th>\n",
       "      <td> 895</td>\n",
       "      <td> 0</td>\n",
       "    </tr>\n",
       "    <tr>\n",
       "      <th>4</th>\n",
       "      <td> 896</td>\n",
       "      <td> 1</td>\n",
       "    </tr>\n",
       "  </tbody>\n",
       "</table>\n",
       "</div>"
      ],
      "text/plain": [
       "   PassengerId  Survived\n",
       "0          892         0\n",
       "1          893         1\n",
       "2          894         0\n",
       "3          895         0\n",
       "4          896         1"
      ]
     },
     "execution_count": 24,
     "metadata": {},
     "output_type": "execute_result"
    }
   ],
   "source": [
    "df_test['Survived'] = -1\n",
    "full_df = pd.concat([df, df_test])\n",
    "prepared_df = prepare_data(full_df, scale=True)\n",
    "\n",
    "formula = 'Survived ~ C(Pclass) + C(Sex) + FamilySize_scaled  + C(Embarked) + Fare_scaled + Age_scaled + C(Title)'\n",
    "y,X = dmatrices(formula, data=prepared_df, return_type='dataframe')\n",
    "\n",
    "classifier = svm.SVC(kernel=\"rbf\", gamma=0.0)\n",
    "classifier.fit(X[y.Survived != -1], np.asarray(y[y.Survived != -1]).ravel())\n",
    "result = classifier.predict(X[y.Survived == -1])\n",
    "\n",
    "df_test['Survived'] = result\n",
    "df_test[['PassengerId','Survived']].head()"
   ]
  },
  {
   "cell_type": "code",
   "execution_count": 26,
   "metadata": {
    "collapsed": false
   },
   "outputs": [],
   "source": [
    "df_test[['PassengerId','Survived']].astype(int).to_csv('titanic_SVM.csv', index=False)"
   ]
  },
  {
   "cell_type": "code",
   "execution_count": 220,
   "metadata": {
    "collapsed": false,
    "scrolled": true
   },
   "outputs": [],
   "source": [
    "# df_test['Survived'] = -1\n",
    "# full_df = pd.concat([df, df_test])\n",
    "# prepared_df = setMissingAges(prepare_data(full_df))\n",
    "\n",
    "# formula = 'Survived ~ C(Pclass) + C(Sex) + SibSp  + C(Embarked) + Fare + Age + Parch + C(CabinLetter) + C(Title)'\n",
    "# y,X = dmatrices(formula, data=prepared_df, return_type='dataframe')\n",
    "\n",
    "# pca = PCA()\n",
    "# X_transformed = pca.fit_transform(X[y.Survived != -1],y[y.Survived != -1])\n",
    "# # pcaDataFrame = d.DataFrame(X_transformed)\n",
    "\n",
    "# parameter_grid = {\n",
    "# #     \"criterion\": [\"gini\", \"entropy\"],\n",
    "#     \"max_depth\": [None, 3, 5, 10],\n",
    "#     'max_features': [0.5, 1.],\n",
    "#     'min_samples_leaf': [1,3,5,7,10,15,20]\n",
    "# }\n",
    "                                            \n",
    "# classifier = DecisionTreeClassifier()                                               \n",
    "# grid_search = GridSearchCV(classifier, parameter_grid, n_jobs=-1, cv=10)\n",
    "# grid_search.fit(X_transformed, np.asarray(y[y.Survived != -1]).ravel())\n",
    "# best_params = sorted(grid_search.grid_scores_, key=lambda x: x[1], reverse=True)[:10]\n",
    "# best_params"
   ]
  }
 ],
 "metadata": {
  "kernelspec": {
   "display_name": "Python 2",
   "language": "python",
   "name": "python2"
  },
  "language_info": {
   "codemirror_mode": {
    "name": "ipython",
    "version": 2
   },
   "file_extension": ".py",
   "mimetype": "text/x-python",
   "name": "python",
   "nbconvert_exporter": "python",
   "pygments_lexer": "ipython2",
   "version": "2.7.8"
  }
 },
 "nbformat": 4,
 "nbformat_minor": 0
}
